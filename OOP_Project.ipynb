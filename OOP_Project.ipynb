{
 "cells": [
  {
   "cell_type": "code",
   "execution_count": 21,
   "metadata": {},
   "outputs": [],
   "source": [
    "from abc import ABC\n",
    "class Person(ABC):\n",
    "    def __init__(self,name,dateofbirth,gender):\n",
    "        self.__name = name\n",
    "        self.__dateofbirth = dateofbirth\n",
    "        self.__gender = gender\n",
    "    \n",
    "\n",
    "    def print_info(self):\n",
    "        print(', name:',self.__name,', Date of birth:',self.__dateofbirth,\", Gender:\",self.__gender,end=' ')\n",
    "        \n",
    "    def _get_name (self):\n",
    "        return self.__name"
   ]
  },
  {
   "cell_type": "markdown",
   "metadata": {},
   "source": [
    "##"
   ]
  },
  {
   "cell_type": "code",
   "execution_count": 22,
   "metadata": {},
   "outputs": [],
   "source": [
    "class Library:\n",
    "    def __init__(self,name,location):\n",
    "        self.name = name\n",
    "        self.__location = location\n",
    "        self.__employee = []\n",
    "        self.__customer = []\n",
    "        self.__Books = []\n",
    "        self.__books_owners = {}\n",
    "        self.__banned = []\n",
    "\n",
    "    def get_name(self):\n",
    "        return self.name\n",
    "    \n",
    "    def set_books_owner(self,book,customer):\n",
    "        self.__books_owners[book] = customer\n",
    "\n",
    "    def _set_employee(self,employee):\n",
    "        self.__employee.append(employee.get_name())\n",
    "\n",
    "    def add_books(self,book):\n",
    "        self.__Books.append(book.get_name())\n",
    "\n",
    "    def add_customer(self,customer):\n",
    "        self.__customer.append(customer.get_name())\n",
    "\n",
    "    def remove_customer(self,customer):\n",
    "        self.__customer.remove(customer.get_name())\n",
    "        self.__banned.append(customer.get_name())\n",
    "\n",
    "    def remove_books(self,book):\n",
    "        self.__Books.remove(book.get_name())\n",
    " \n",
    "\n",
    "    def check_book(self,book):\n",
    "        if book in self.__Books:\n",
    "            return True\n",
    "        else:\n",
    "            print(\"Book is not available\")\n",
    "            \n",
    "    def print_books(self):\n",
    "        for i in self.__Books:\n",
    "            print(i)\n",
    "    \n",
    "    def print_books_owners(self):\n",
    "        print(self.__books_owners)\n",
    "\n",
    "    def print_banned(self):\n",
    "        for i in self.__banned:\n",
    "            print(i)\n",
    "    \n",
    "    def _print_info(self):\n",
    "        print(self.name,self.__location,self.__employee,self.__customer,self.__Books)\n",
    "    "
   ]
  },
  {
   "cell_type": "code",
   "execution_count": 23,
   "metadata": {},
   "outputs": [],
   "source": [
    "\n",
    "class Employee(Person):\n",
    "\n",
    "    def __init__(self, name, dateofbirth, gender,id,password,library):\n",
    "        super().__init__(name, dateofbirth, gender)\n",
    "        self.__name = name\n",
    "        self.__id = id\n",
    "        self.__password = password\n",
    "        self.Library = library\n",
    "\n",
    "    def get_name(self):\n",
    "        return self.__name\n",
    "\n",
    "    def print_info(self):\n",
    "        if self.__check_password():\n",
    "            print(\"ID:\",self.__id,end=\" \")  \n",
    "            super().print_info()\n",
    "            \n",
    "    def sell_book(self,book,customer):\n",
    "        if self.Library.check_book(book.get_name()):\n",
    "            customer.set_booksbought(book.get_name())\n",
    "            self.Library.set_books_owner(book.get_name(),customer.get_name())\n",
    "            self.Library.remove_books(book)\n",
    "            print(f'{book.get_name()} been sold to {customer.get_name()}')\n",
    "        else:\n",
    "            print('book is not available')\n",
    "\n",
    "\n",
    "    def add_customer(self, customer):\n",
    "        self.Library.add_customer(customer)\n",
    "        print(f'{customer.get_name()} has been added')\n",
    "\n",
    "    def __check_password(self):\n",
    "        entered_password = int(input(\"enter your password\"))\n",
    "        if entered_password == self.__password:\n",
    "            return True\n",
    "        else:\n",
    "            print(\"wrong password\")\n",
    "\n",
    "    def ban_user(self,customer):\n",
    "        self.Library.remove_customer(customer)\n",
    "        print(f'{customer.get_name()} has been banned')\n",
    "\n"
   ]
  },
  {
   "cell_type": "code",
   "execution_count": 24,
   "metadata": {},
   "outputs": [],
   "source": [
    "class Customer(Person):\n",
    "    \n",
    "    def __init__(self, name, dateofbirth, gender):\n",
    "        super().__init__(name, dateofbirth, gender)\n",
    "        self.__name = name\n",
    "        self.__booksbought = []\n",
    "\n",
    "    def get_name(self):\n",
    "        return self.__name\n",
    "\n",
    "    def set_booksbought(self,book):\n",
    "        self.__booksbought.append(book)\n",
    "\n",
    "    def print_books(self):\n",
    "         \n",
    "         for book in self.__booksbought:\n",
    "            print(book)"
   ]
  },
  {
   "cell_type": "code",
   "execution_count": 25,
   "metadata": {},
   "outputs": [],
   "source": [
    "class Book:\n",
    "    def __init__(self,bookid,book_name,author,price = 60) -> None:\n",
    "        self.__bookid = bookid\n",
    "        self.__book = book_name\n",
    "        self.__author = author\n",
    "        self.__price = price\n",
    "        \n",
    "    def get_name(self):\n",
    "        return self.__book\n",
    "\n",
    "    def print_info(self):\n",
    "        print(', ID:',self.__bookid,', Name:',self.__book,\", Author:\",self.__author,', Price:',self.__price)\n",
    "    \n",
    "    def get_bookname(self):\n",
    "        return self.__book"
   ]
  },
  {
   "cell_type": "code",
   "execution_count": 26,
   "metadata": {},
   "outputs": [],
   "source": [
    "library = Library('Library','ayat')\n",
    "emp1 = Employee('abram',2003,\"male\",1,123,library)\n",
    "emp2 = Employee('ashraf',1999,\"male\",1,111,library)\n",
    "book1 = Book(1,'A game of thrones','George R.R Martin',60)\n",
    "book2 = Book(2,'A clash of kings','George R.R Martin',60)\n",
    "book3 = Book(3,'A Storm of Swords','George R.R Martin',60)\n",
    "book4 = Book(3,'A Feast for Crows','George R.R Martin',60)\n",
    "book5 = Book(3,'A Dance with Dragons','George R.R Martin',60)\n",
    "book6 = Book(3,'AC: Renaissance','George R.R Martin',60)\n",
    "book7 = Book(3,'AC Brotherhood','George R.R Martin',60)\n",
    "book8 = Book(3,'AC The Secret Crusade','George R.R Martin',60)\n",
    "book9 = Book(3,'Alamut ','Vladimir Bartol',60)\n",
    "book10 = Book(3,'Origins – Desert Oath','Andrew Holmes',60)\n",
    "customer = Customer('narmar',-5000,\"male\")\n",
    "customer2 = Customer('max',1986,'male')\n",
    "library._set_employee(emp1)\n",
    "library._set_employee(emp2)\n",
    "library.add_books(book1)\n",
    "library.add_books(book2)\n",
    "library.add_books(book3)\n",
    "library.add_books(book4)\n",
    "library.add_books(book5)\n",
    "library.add_books(book6)\n",
    "library.add_books(book7)\n",
    "library.add_books(book8)\n",
    "library.add_books(book9)\n",
    "library.add_books(book10)"
   ]
  },
  {
   "cell_type": "code",
   "execution_count": 27,
   "metadata": {},
   "outputs": [
    {
     "name": "stdout",
     "output_type": "stream",
     "text": [
      "A game of thrones\n",
      "A clash of kings\n",
      "A Storm of Swords\n",
      "A Feast for Crows\n",
      "A Dance with Dragons\n",
      "AC: Renaissance\n",
      "AC Brotherhood\n",
      "AC The Secret Crusade\n",
      "Alamut \n",
      "Origins – Desert Oath\n"
     ]
    }
   ],
   "source": [
    "library.print_books()"
   ]
  },
  {
   "cell_type": "code",
   "execution_count": 28,
   "metadata": {},
   "outputs": [
    {
     "name": "stdout",
     "output_type": "stream",
     "text": [
      "A game of thrones been sold to narmar\n"
     ]
    }
   ],
   "source": [
    "emp1.sell_book(book1,customer)\n"
   ]
  },
  {
   "cell_type": "code",
   "execution_count": 29,
   "metadata": {},
   "outputs": [
    {
     "name": "stdout",
     "output_type": "stream",
     "text": [
      "A clash of kings\n",
      "A Storm of Swords\n",
      "A Feast for Crows\n",
      "A Dance with Dragons\n",
      "AC: Renaissance\n",
      "AC Brotherhood\n",
      "AC The Secret Crusade\n",
      "Alamut \n",
      "Origins – Desert Oath\n"
     ]
    }
   ],
   "source": [
    "library.print_books()"
   ]
  },
  {
   "cell_type": "code",
   "execution_count": 30,
   "metadata": {},
   "outputs": [
    {
     "name": "stdout",
     "output_type": "stream",
     "text": [
      "A game of thrones\n"
     ]
    }
   ],
   "source": [
    "customer.print_books()"
   ]
  },
  {
   "cell_type": "code",
   "execution_count": 31,
   "metadata": {},
   "outputs": [
    {
     "name": "stdout",
     "output_type": "stream",
     "text": [
      "A clash of kings been sold to max\n"
     ]
    }
   ],
   "source": [
    "emp2.sell_book(book2,customer2)"
   ]
  },
  {
   "cell_type": "code",
   "execution_count": 32,
   "metadata": {},
   "outputs": [
    {
     "name": "stdout",
     "output_type": "stream",
     "text": [
      "A Storm of Swords\n",
      "A Feast for Crows\n",
      "A Dance with Dragons\n",
      "AC: Renaissance\n",
      "AC Brotherhood\n",
      "AC The Secret Crusade\n",
      "Alamut \n",
      "Origins – Desert Oath\n"
     ]
    }
   ],
   "source": [
    "library.print_books()"
   ]
  },
  {
   "cell_type": "code",
   "execution_count": 33,
   "metadata": {},
   "outputs": [
    {
     "name": "stdout",
     "output_type": "stream",
     "text": [
      "{'A game of thrones': 'narmar', 'A clash of kings': 'max'}\n"
     ]
    }
   ],
   "source": [
    "library.print_books_owners()"
   ]
  },
  {
   "cell_type": "code",
   "execution_count": 34,
   "metadata": {},
   "outputs": [
    {
     "name": "stdout",
     "output_type": "stream",
     "text": [
      "narmar has been added\n"
     ]
    }
   ],
   "source": [
    "emp1.add_customer(customer)"
   ]
  },
  {
   "cell_type": "code",
   "execution_count": 35,
   "metadata": {},
   "outputs": [
    {
     "name": "stdout",
     "output_type": "stream",
     "text": [
      "max has been added\n"
     ]
    }
   ],
   "source": [
    "emp2.add_customer(customer2)"
   ]
  },
  {
   "cell_type": "code",
   "execution_count": 36,
   "metadata": {},
   "outputs": [
    {
     "name": "stdout",
     "output_type": "stream",
     "text": [
      "max has been banned\n"
     ]
    }
   ],
   "source": [
    "emp1.ban_user(customer2)"
   ]
  },
  {
   "cell_type": "code",
   "execution_count": 37,
   "metadata": {},
   "outputs": [
    {
     "name": "stdout",
     "output_type": "stream",
     "text": [
      "A Dance with Dragons been sold to narmar\n"
     ]
    }
   ],
   "source": [
    "emp2.sell_book(book5,customer)"
   ]
  },
  {
   "cell_type": "code",
   "execution_count": 38,
   "metadata": {},
   "outputs": [
    {
     "name": "stdout",
     "output_type": "stream",
     "text": [
      "A game of thrones\n",
      "A Dance with Dragons\n"
     ]
    }
   ],
   "source": [
    "customer.print_books()"
   ]
  },
  {
   "cell_type": "code",
   "execution_count": 39,
   "metadata": {},
   "outputs": [
    {
     "name": "stdout",
     "output_type": "stream",
     "text": [
      "{'A game of thrones': 'narmar', 'A clash of kings': 'max', 'A Dance with Dragons': 'narmar'}\n"
     ]
    }
   ],
   "source": [
    "library.print_books_owners()"
   ]
  },
  {
   "cell_type": "code",
   "execution_count": 40,
   "metadata": {},
   "outputs": [
    {
     "name": "stdout",
     "output_type": "stream",
     "text": [
      "A Storm of Swords\n",
      "A Feast for Crows\n",
      "AC: Renaissance\n",
      "AC Brotherhood\n",
      "AC The Secret Crusade\n",
      "Alamut \n",
      "Origins – Desert Oath\n"
     ]
    }
   ],
   "source": [
    "library.print_books()"
   ]
  },
  {
   "cell_type": "code",
   "execution_count": null,
   "metadata": {},
   "outputs": [],
   "source": []
  }
 ],
 "metadata": {
  "kernelspec": {
   "display_name": "Python 3",
   "language": "python",
   "name": "python3"
  },
  "language_info": {
   "codemirror_mode": {
    "name": "ipython",
    "version": 3
   },
   "file_extension": ".py",
   "mimetype": "text/x-python",
   "name": "python",
   "nbconvert_exporter": "python",
   "pygments_lexer": "ipython3",
   "version": "3.12.4"
  }
 },
 "nbformat": 4,
 "nbformat_minor": 2
}
